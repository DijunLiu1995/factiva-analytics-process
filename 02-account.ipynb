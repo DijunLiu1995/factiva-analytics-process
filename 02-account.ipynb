{
 "cells": [
  {
   "cell_type": "markdown",
   "metadata": {},
   "source": [
    "# Account\n",
    "The Dow Jones DNA account allow is subject to configuratio settings assigned on the DNA platform at the contract-sign time. \n",
    "\n",
    "## Notebook Initialization"
   ]
  },
  {
   "cell_type": "code",
   "execution_count": 5,
   "metadata": {},
   "outputs": [
    {
     "name": "stdout",
     "output_type": "stream",
     "text": [
      "Initialization done!\n"
     ]
    }
   ],
   "source": [
    "import os\n",
    "from IPython.display import Markdown as md\n",
    "from dotenv import load_dotenv\n",
    "import requests\n",
    "import json\n",
    "load_dotenv()\n",
    "user_key = os.getenv(\"DJDNA_USERKEY\")\n",
    "api_server = os.getenv(\"DJDNA_APISERVER\")\n",
    "api_url = \"https://{0}\".format(api_server)\n",
    "account_api_path = \"/alpha/accounts/\"\n",
    "api_headers = { \"user-key\": user_key, \"Content-Type\": \"application/json\" }\n",
    "print('Initialization done!')"
   ]
  },
  {
   "cell_type": "markdown",
   "metadata": {},
   "source": [
    "## Account Statistics"
   ]
  },
  {
   "cell_type": "code",
   "execution_count": 3,
   "metadata": {},
   "outputs": [],
   "source": [
    "as_req_url = api_url + account_api_path + user_key\n",
    "as_resp = requests.get(as_req_url, headers = api_headers)\n",
    "if as_resp.status_code == 200:\n",
    "    json_resp = json.loads(as_resp.text)\n",
    "else:\n",
    "    print(\"Request failed with code {0}\".format(as_resp.status_code))"
   ]
  },
  {
   "cell_type": "code",
   "execution_count": 4,
   "metadata": {},
   "outputs": [
    {
     "data": {
      "text/markdown": [
       "```javascript\n",
       "{\n",
       "    \"cnt_curr_ext\": 1,\n",
       "    \"current_downloaded_amount\": 355272440063,\n",
       "    \"max_allowed_concurrent_extracts\": 10,\n",
       "    \"max_allowed_document_extracts\": 999999999,\n",
       "    \"max_allowed_extracts\": 100,\n",
       "    \"name\": \"DowJones-Vlad\",\n",
       "    \"products\": \"DNA\",\n",
       "    \"tot_document_extracts\": 64393894,\n",
       "    \"tot_extracts\": 66,\n",
       "    \"tot_subscriptions\": 0,\n",
       "    \"tot_topics\": 4\n",
       "}\n",
       "```"
      ],
      "text/plain": [
       "<IPython.core.display.Markdown object>"
      ]
     },
     "execution_count": 4,
     "metadata": {},
     "output_type": "execute_result"
    }
   ],
   "source": [
    "assert(type(json_resp) == dict)\n",
    "md(\"```javascript\\n{0}\\n```\".format(json.dumps(json_resp[\"data\"][\"attributes\"], indent=4, sort_keys=True)))"
   ]
  },
  {
   "cell_type": "code",
   "execution_count": null,
   "metadata": {},
   "outputs": [],
   "source": []
  }
 ],
 "metadata": {
  "kernelspec": {
   "display_name": "Python 3",
   "language": "python",
   "name": "python3"
  },
  "language_info": {
   "codemirror_mode": {
    "name": "ipython",
    "version": 3
   },
   "file_extension": ".py",
   "mimetype": "text/x-python",
   "name": "python",
   "nbconvert_exporter": "python",
   "pygments_lexer": "ipython3",
   "version": "3.7.3"
  }
 },
 "nbformat": 4,
 "nbformat_minor": 4
}
