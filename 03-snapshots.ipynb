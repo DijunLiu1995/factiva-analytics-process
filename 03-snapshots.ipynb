{
 "cells": [
  {
   "cell_type": "markdown",
   "metadata": {},
   "source": [
    "# Snapshots\n",
    "Snapshots is one if the two main article delivery channels. It can be used as a one-time collection, or as an initial execution with further updates (as short as weekly).\n",
    "\n",
    "## Notebook Initalization"
   ]
  },
  {
   "cell_type": "code",
   "execution_count": 1,
   "metadata": {},
   "outputs": [
    {
     "name": "stdout",
     "output_type": "stream",
     "text": [
      "Initialization done!\n",
      "<class 'factiva.core.apikeyuser.APIKeyUser'>\n",
      "  api_key = ****************************f56e\n",
      "  account_name = \n",
      "  account_type = \n",
      "  active_products = \n",
      "  max_allowed_concurrent_extractions = 0\n",
      "  max_allowed_extracted_documents = 0\n",
      "  max_allowed_extractions = 0\n",
      "  total_downloaded_bytes = 0\n",
      "  total_extracted_documents = 0\n",
      "  total_extractions = 0\n",
      "  total_stream_subscriptions = 0\n",
      "  total_stream_topics = 0\n",
      "  remaining_documents = 0\n",
      "  remaining_extractions = 0\n",
      "\n"
     ]
    }
   ],
   "source": [
    "import os\n",
    "from factiva.core import APIKeyUser\n",
    "from dotenv import load_dotenv\n",
    "\n",
    "load_dotenv()\n",
    "aku = APIKeyUser(os.getenv(\"FACTIVA_APIKEY\"), request_info=False)\n",
    " \n",
    "print('Initialization done!')\n",
    "print(aku)"
   ]
  },
  {
   "cell_type": "code",
   "execution_count": null,
   "metadata": {},
   "outputs": [],
   "source": [
    "aku = APIKeyUser('989b66682ae6ba7b474898817c0d088a', request_info=True)\n",
    "aku"
   ]
  },
  {
   "cell_type": "markdown",
   "metadata": {},
   "source": [
    "## Notebook Variables\n",
    "Ensure that the value for the following variables is set according to the provided credentials and local environment."
   ]
  },
  {
   "cell_type": "code",
   "execution_count": null,
   "metadata": {},
   "outputs": [],
   "source": [
    "snapshot_download_dir = \"data-\" + \"cse-NewsCO\"  # Don't change the data previx and ensure this value is updated for each new snapshot collection\n",
    "\n",
    "snapshot_query = { 'query': {\n",
    "                        'where': 'publication_datetime >= \"2019-01-01 00:00:00\" AND publication_datetime < \"2019-08-29 00:00:00\" AND REGEXP_CONTAINS(UPPER(region_of_origin), r\"(COL)\")'\n",
    "                     } }"
   ]
  },
  {
   "cell_type": "markdown",
   "metadata": {},
   "source": [
    "## Explain\n",
    "The explain API provides count of articles to have an idea about the potential volume to be returned by the Extract (Snapshots) API. The query used in this section is exactly the same that will be used for **Analytics** and **Extractions**.\n",
    "\n",
    "### Create the Explain Job\n",
    "Explains as well as other operations available under the Snapshots category receive a POST request with a query and an action, and the response notifies if the job was created successfully or not, along with a Job ID. Then, the Job ID has to be used as paramneter to fire a new request with the aim to obtain the operation output."
   ]
  },
  {
   "cell_type": "code",
   "execution_count": null,
   "metadata": {},
   "outputs": [],
   "source": [
    "expl_req_url = api_url + explain_api_path\n",
    "expl_resp = requests.post(expl_req_url, headers = api_headers, json = snapshot_query)\n",
    "if expl_resp.status_code < 400:\n",
    "    expl_id = expl_resp.json()['data']['id']\n",
    "    print(\"Successful Explain Request\\n{0}\".format(json.dumps(expl_resp.json()['data'])))\n",
    "else:\n",
    "    print(\"Failed Explain Request with code {0} and message {1}\".format(expl_resp.status_code, json.dumps(expl_resp.json()['errors'])))"
   ]
  },
  {
   "cell_type": "markdown",
   "metadata": {},
   "source": [
    "### Check the Explain Job Results\n",
    "This operations has to be executed until the current_state field is shown as \"JOB_STATE_DONE\"."
   ]
  },
  {
   "cell_type": "code",
   "execution_count": null,
   "metadata": {},
   "outputs": [],
   "source": [
    "explstatus_req_url = api_url + extract_api_path + \"/{0}\".format(expl_id) + \"/_explain\"\n",
    "explstatus_resp = requests.get(explstatus_req_url, headers = api_headers)"
   ]
  },
  {
   "cell_type": "code",
   "execution_count": null,
   "metadata": {},
   "outputs": [],
   "source": [
    "if explstatus_resp.json()['data']['attributes']['current_state'] == \"JOB_STATE_DONE\":\n",
    "    print(\"Estimated article volume is {0}\".format(explstatus_resp.json()['data']['attributes']['counts']))\n",
    "else:\n",
    "    print(\"Job is still running, please try again in few seconds.\")"
   ]
  },
  {
   "cell_type": "code",
   "execution_count": null,
   "metadata": {},
   "outputs": [],
   "source": []
  }
 ],
 "metadata": {
  "kernelspec": {
   "display_name": "Python 3",
   "language": "python",
   "name": "python3"
  },
  "language_info": {
   "codemirror_mode": {
    "name": "ipython",
    "version": 3
   },
   "file_extension": ".py",
   "mimetype": "text/x-python",
   "name": "python",
   "nbconvert_exporter": "python",
   "pygments_lexer": "ipython3",
   "version": "3.7.6"
  }
 },
 "nbformat": 4,
 "nbformat_minor": 4
}
