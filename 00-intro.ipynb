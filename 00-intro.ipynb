{
 "cells": [
  {
   "cell_type": "markdown",
   "metadata": {},
   "source": [
    "# Intro"
   ]
  },
  {
   "cell_type": "code",
   "execution_count": 7,
   "metadata": {
    "jupyter": {
     "source_hidden": true
    }
   },
   "outputs": [
    {
     "data": {
      "text/markdown": [
       "# Dow Jones DNA Collection and Analytics\n",
       "\n",
       "## What is Dow Jones DNA?\n",
       "...\n",
       "\n",
       "## What's the audience of this notebook collection?\n",
       "...\n",
       "\n",
       "## Purpose \n",
       "\n",
       "The goal of this set of notebooks is to provide a reference point on how typical Dow Jones DNA sevices can be consumed and its data processed, by using sample code for common technical requirements, and given the nature of the data provided by DNA APIs.\n",
       "\n",
       "It's important to highlight that the information contained in these notebooks not only addresses functional questions about the use of the data, but also acknowledges that it is meant to be deployed in production-ready environments, suggesting best practices and using popular products or services, which by no means entitle a recommendation to use the product service, but are used only for illustration purpuses.\n",
       "\n",
       "This library is maintained by the Customer Solutions Engineering team within Dow Jones DNA, aiming to keep the code as updated as possible."
      ],
      "text/plain": [
       "<IPython.core.display.Markdown object>"
      ]
     },
     "execution_count": 7,
     "metadata": {},
     "output_type": "execute_result"
    }
   ],
   "source": [
    "from IPython.display import Markdown as md\n",
    "with open(\"README.md\") as rfile:\n",
    "   rfile_txt = rfile.read()\n",
    "md(rfile_txt)"
   ]
  },
  {
   "cell_type": "code",
   "execution_count": null,
   "metadata": {},
   "outputs": [],
   "source": []
  }
 ],
 "metadata": {
  "kernelspec": {
   "display_name": "Python 3",
   "language": "python",
   "name": "python3"
  },
  "language_info": {
   "codemirror_mode": {
    "name": "ipython",
    "version": 3
   },
   "file_extension": ".py",
   "mimetype": "text/x-python",
   "name": "python",
   "nbconvert_exporter": "python",
   "pygments_lexer": "ipython3",
   "version": "3.7.3"
  }
 },
 "nbformat": 4,
 "nbformat_minor": 4
}
