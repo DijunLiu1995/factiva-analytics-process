{
 "cells": [
  {
   "cell_type": "markdown",
   "metadata": {},
   "source": [
    "# Prerequisites\n",
    "\n",
    "## Packages\n",
    "To run all notebooks within this folder, the following packages are required:\n",
    "* dotenv\n",
    "* Pandas\n",
    "* Fastavro\n",
    "* PlotLy\n",
    "\n",
    "## Create a .env file\n",
    "use the following structure\n",
    "\n",
    "```bash\n",
    "DJDNA_USERKEY=\"abcd1234abcd1234abcd1234abcd1234\"  # Replace with your key\n",
    "DJDNA_APIURL=\"api.dowjones.com\"\n",
    "```\n",
    "\n",
    "## Run prerequisites check\n",
    "Please ensure the message \"All prerequisites are OK\" messaage is displayed after running the following cell. Otherwise, check and troubleshoot error messages."
   ]
  },
  {
   "cell_type": "code",
   "execution_count": 36,
   "metadata": {},
   "outputs": [
    {
     "name": "stdout",
     "output_type": "stream",
     "text": [
      "Checking all used packages...\n",
      "  * Packages installed correctly\n",
      "\n",
      "Checking environment...\n",
      "  * User key looks good!\n",
      "  * API server looks good!\n",
      "\n",
      "All prerequisites are OK!\n"
     ]
    }
   ],
   "source": [
    "# Verification process\n",
    "from IPython.display import Markdown as md\n",
    "print(\"Checking all used packages...\")\n",
    "import os\n",
    "from dotenv import load_dotenv\n",
    "import requests\n",
    "import json\n",
    "import pandas as pd\n",
    "import fastavro\n",
    "import plotly.graph_objects as go\n",
    "print(\"  * Packages installed correctly\\n\")\n",
    "\n",
    "print(\"Checking environment...\")\n",
    "load_dotenv()\n",
    "user_key = os.getenv(\"DJDNA_USERKEY\")\n",
    "assert(type(user_key) == str)\n",
    "assert(len(user_key) == 32)\n",
    "print(\"  * User key looks good!\")\n",
    "api_server = os.getenv(\"DJDNA_APISERVER\")\n",
    "assert(type(user_key) == str)\n",
    "assert(len(user_key) >= 7)\n",
    "print(\"  * API server looks good!\")\n",
    "print(\"\\nAll prerequisites are OK!\")"
   ]
  },
  {
   "cell_type": "code",
   "execution_count": null,
   "metadata": {},
   "outputs": [],
   "source": []
  }
 ],
 "metadata": {
  "kernelspec": {
   "display_name": "Python 3",
   "language": "python",
   "name": "python3"
  },
  "language_info": {
   "codemirror_mode": {
    "name": "ipython",
    "version": 3
   },
   "file_extension": ".py",
   "mimetype": "text/x-python",
   "name": "python",
   "nbconvert_exporter": "python",
   "pygments_lexer": "ipython3",
   "version": "3.7.3"
  }
 },
 "nbformat": 4,
 "nbformat_minor": 4
}
